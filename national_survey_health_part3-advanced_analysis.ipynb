{
 "cells": [
  {
   "cell_type": "markdown",
   "metadata": {},
   "source": [
    "# Analysis of the National Survey of Health\n",
    "\n",
    "## Jason Piccone, Ph.D.\n",
    "\n",
    "## Part III: Advanced Analysis"
   ]
  },
  {
   "cell_type": "markdown",
   "metadata": {},
   "source": [
    "# Import Libraries"
   ]
  },
  {
   "cell_type": "code",
   "execution_count": null,
   "metadata": {
    "collapsed": false
   },
   "outputs": [],
   "source": [
    "from matplotlib import style \n",
    "from sklearn import cross_validation as cv, linear_model, ensemble, metrics, svm\n",
    "from sklearn.cross_validation import KFold, train_test_split\n",
    "from sklearn.ensemble import RandomForestClassifier, RandomForestRegressor, GradientBoostingClassifier, VotingClassifier, BaggingRegressor, ExtraTreesRegressor, ExtraTreesClassifier\n",
    "from sklearn.linear_model import LogisticRegression, LinearRegression, Ridge\n",
    "from sklearn.metrics import mean_squared_error\n",
    "from sklearn.naive_bayes import GaussianNB\n",
    "from sklearn.preprocessing import LabelEncoder\n",
    "\n",
    "import math\n",
    "import matplotlib.pyplot as plt\n",
    "import numpy as np\n",
    "import pandas as pd\n",
    "import random\n"
   ]
  },
  {
   "cell_type": "markdown",
   "metadata": {},
   "source": [
    "# Parameters"
   ]
  },
  {
   "cell_type": "code",
   "execution_count": null,
   "metadata": {
    "collapsed": true
   },
   "outputs": [],
   "source": [
    "path = \"/home/paco/Documents/data science/DS projects/national survey on drug use and health 2012/ICPSR_34933/DS0001/\"\n",
    "d_file = 'df2.csv'\n",
    "style.use('ggplot')\n",
    "\n",
    "rand_state = 42\n",
    "trees = 100 # number of trees in the random forest\n"
   ]
  },
  {
   "cell_type": "markdown",
   "metadata": {},
   "source": [
    "# Read Data"
   ]
  },
  {
   "cell_type": "code",
   "execution_count": null,
   "metadata": {
    "collapsed": false
   },
   "outputs": [],
   "source": [
    "df = pd.read_csv(path+d_file)\n",
    "\n",
    "print(df.shape)\n",
    "print(df.head())"
   ]
  },
  {
   "cell_type": "markdown",
   "metadata": {},
   "source": [
    "# Establish Functions"
   ]
  },
  {
   "cell_type": "code",
   "execution_count": null,
   "metadata": {
    "collapsed": true
   },
   "outputs": [],
   "source": [
    "# to make train/test split\n",
    "\n",
    "def split_data(df,y):\n",
    "\n",
    "        '''divide sample into train and test'''      \n",
    "        y = df[y]\n",
    "        X = df.drop(['BOOKED','HEALTH'], axis=1)\n",
    "        X_train, X_test, y_train, y_test = train_test_split(X, y, test_size=0.25, random_state=rand_state)\n",
    "\n",
    "        return(X_train, X_test, y_train, y_test)\n",
    "    \n",
    "\n",
    "\n",
    "\n",
    "# test weighting for stacked ensemble (this section of code is adapted from Julian, 2016):\n",
    "def vclas(w1,w2,w3, w4, w5,X_train,X_test, y_train,y_test):\n",
    "    X_train,X_test, y_train,y_test= cv.train_test_split(X_train,y_train,test_size=0.4)\n",
    "\n",
    "    clf1 = LogisticRegression()\n",
    "    clf2 = GaussianNB()\n",
    "    clf3 = RandomForestClassifier(n_estimators=10,bootstrap=True)\n",
    "    clf4= ExtraTreesClassifier(n_estimators=10, bootstrap=True)\n",
    "    clf5 = GradientBoostingClassifier(n_estimators=10)\n",
    "\n",
    "    clfes=[clf1,clf2,clf3,clf4, clf5]\n",
    "\n",
    "    eclf = VotingClassifier(estimators=[('lr', clf1), ('gnb', clf2), ('rf', clf3),('et',clf4), ('gb',clf5)],\n",
    "                            voting='soft',\n",
    "                            weights=[w1, w2, w3,w4, w5])\n",
    "\n",
    "    [c.fit(X_train, y_train) for c in (clf1, clf2, clf3,clf4, clf5, eclf)]\n",
    " \n",
    "    N = 6\n",
    "    ind = np.arange(N)\n",
    "    width = 0.3\n",
    "    fig, ax = plt.subplots()\n",
    "\n",
    "    for i, clf in enumerate(clfes):\n",
    "        print(clf,i)\n",
    "        p1=ax.bar(i,clfes[i].score(X_train,y_train,), width=width,color=\"blue\", alpha=0.5)\n",
    "        p2=ax.bar(i+width,clfes[i].score(X_test,y_test,), width=width,color=\"red\", alpha=0.5)\n",
    "    ax.bar(len(clfes)+width,eclf.score(X_train,y_train,), width=width,color=\"blue\", alpha=0.5)\n",
    "    ax.bar(len(clfes)+width *2,eclf.score(X_test,y_test,), width=width,color=\"red\", alpha=0.5)\n",
    "    plt.axvline(4.8, color='k', linestyle='dashed')\n",
    "    ax.set_xticks(ind + width)\n",
    "    ax.set_xticklabels(['LogisticRegression',\n",
    "                        'GaussianNB',\n",
    "                        'RandomForestClassifier',\n",
    "                        'ExtraTrees',\n",
    "                        'GradientBoosting',\n",
    "                        'VotingClassifier'],\n",
    "                       rotation=40,\n",
    "                       ha='right')\n",
    "    plt.title('Training and Test Score for Different Classifiers')\n",
    "    plt.legend([p1[0], p2[0]], ['training', 'test'], loc='lower left')\n",
    "    plt.show()\n",
    "\n",
    "\n"
   ]
  },
  {
   "cell_type": "code",
   "execution_count": null,
   "metadata": {
    "collapsed": false
   },
   "outputs": [],
   "source": [
    "# collect partitioned data\n",
    "X_train, X_test, y_train, y_test = split_data(df,'BOOKED')\n",
    "\n",
    "\n",
    "# run ensemble\n",
    "vclas(2,1.5,2,2,2,X_train,X_test, y_train,y_test)\n"
   ]
  },
  {
   "cell_type": "code",
   "execution_count": null,
   "metadata": {
    "collapsed": false
   },
   "outputs": [],
   "source": [
    "#Fit final model:\n",
    "\n",
    "def fit_final(X_train,y_train,X_test,y_test):\n",
    "    \n",
    "    clf1 = LogisticRegression(random_state=rand_state)\n",
    "    clf2 = GaussianNB()\n",
    "    clf3 = RandomForestClassifier(n_estimators=trees, random_state=rand_state)\n",
    "    clf4 = ExtraTreesClassifier(n_estimators=trees, bootstrap=True,random_state=rand_state)\n",
    "    clf5 = GradientBoostingClassifier(n_estimators=trees, random_state=rand_state)\n",
    "\n",
    "    clf1.fit(X_train, y_train)\n",
    "    clf2.fit(X_train, y_train)\n",
    "    clf3.fit(X_train, y_train)\n",
    "    clf4.fit(X_train, y_train)\n",
    "    clf5.fit(X_train, y_train)\n",
    "\n",
    "\n",
    "    eclf = VotingClassifier(estimators=[('lr', clf1), ('gnb', clf2), ('rf', clf3),('et',clf4),('gb',clf5)],\n",
    "                                voting='soft',\n",
    "                                weights=[2, 1.5, 2, 2, 2])\n",
    "    eclf1 = eclf.fit(X_train, y_train)\n",
    "    disbursed = eclf1.predict_proba(X_test)\n",
    "    fpr, tpr, thresholds = metrics.roc_curve(y_test, disbursed[:,1])\n",
    "    print('Final AUC = ' + str(metrics.auc(fpr, tpr))) \n",
    "\n",
    "fit_final(X_train,y_train,X_test,y_test)"
   ]
  },
  {
   "cell_type": "code",
   "execution_count": null,
   "metadata": {
    "collapsed": true
   },
   "outputs": [],
   "source": []
  }
 ],
 "metadata": {
  "kernelspec": {
   "display_name": "Python [conda root]",
   "language": "python",
   "name": "conda-root-py"
  },
  "language_info": {
   "codemirror_mode": {
    "name": "ipython",
    "version": 3
   },
   "file_extension": ".py",
   "mimetype": "text/x-python",
   "name": "python",
   "nbconvert_exporter": "python",
   "pygments_lexer": "ipython3",
   "version": "3.5.2"
  }
 },
 "nbformat": 4,
 "nbformat_minor": 1
}
